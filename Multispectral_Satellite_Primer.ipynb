{
 "cells": [
  {
   "cell_type": "markdown",
   "metadata": {},
   "source": [
    "### Understanding Multispectral Imagery: A Primer for GBIF Users\n",
    "\n",
    "In the realm of remote sensing, multispectral imagery is a cornerstone technology that allows us to observe Earth in ways that the human eye cannot. By capturing light across multiple wavelengths, multispectral sensors onboard satellites provide invaluable data for biodiversity research, ecosystem monitoring, and environmental science. Two prominent missions leading the way in multispectral imaging are NASA's Landsat program and the European Space Agency's (ESA) Sentinel satellites. Let’s delve into the fundamentals of multispectral imagery and its relevance to biodiversity informatics, while also exploring the orbital mechanics that enable these satellites to provide consistent global coverage.\n",
    "\n",
    "#### What is Multispectral Imagery?\n",
    "\n",
    "Multispectral imagery refers to data captured across specific ranges of the electromagnetic spectrum, often divided into bands. Each band corresponds to a particular wavelength range, such as visible light (red, green, blue) or non-visible regions (near-infrared, shortwave infrared). These bands enable scientists to extract a wealth of information about the Earth’s surface, from vegetation health to soil moisture and water quality.\n",
    "\n",
    "For example:\n",
    "- **Visible bands** (400–700 nm): These are the same wavelengths visible to the human eye, providing natural-color images.\n",
    "- **Near-Infrared (NIR)** (700–1000 nm): Useful for assessing vegetation health through indices like the Normalized Difference Vegetation Index (NDVI).\n",
    "- **Shortwave Infrared (SWIR)** (1000–2500 nm): Provides insights into soil and moisture properties, and aids in detecting wildfires.\n"
   ]
  },
  {
   "cell_type": "markdown",
   "metadata": {},
   "source": [
    "#### The Landsat Mission\n",
    "\n",
    "Since its inception in 1972, the Landsat program has been a pioneer in Earth observation. The Landsat satellites are equipped with multispectral sensors, such as the Operational Land Imager (OLI) and the Thermal Infrared Sensor (TIRS), which capture data in a range of bands from visible light to thermal infrared. With a spatial resolution of 30 meters for most bands and a revisit time of 16 days, Landsat data are invaluable for long-term environmental monitoring.\n",
    "\n",
    "Key contributions of Landsat to biodiversity research include:\n",
    "- Mapping land cover changes over decades.\n",
    "- Monitoring deforestation and habitat fragmentation.\n",
    "- Assessing wetland and coastal ecosystems.\n",
    "\n",
    "#### The Sentinel Satellites\n",
    "\n",
    "The Sentinel program, part of ESA’s Copernicus initiative, offers a suite of satellites tailored for environmental monitoring. Sentinel-2, specifically, provides high-resolution multispectral imagery with 13 spectral bands ranging from visible to shortwave infrared. Its 10-meter spatial resolution in visible and NIR bands and a five-day revisit time make it a powerful tool for tracking rapid changes on Earth’s surface.\n",
    "\n",
    "In biodiversity informatics, Sentinel-2’s contributions include:\n",
    "- Mapping invasive species distribution.\n",
    "- Monitoring phenological changes in vegetation.\n",
    "- Detecting and quantifying algal blooms in aquatic ecosystems.\n",
    "\n",
    "#### Satellite Types: Low Earth Orbit (LEO) vs. Medium Earth Orbit (MEO) vs. High Earth Orbit (HEO)\n",
    "\n",
    "The orbits of satellites play a crucial role in determining their functionality and data coverage:\n",
    "- **Low Earth Orbit (LEO):** Most Earth observation satellites, including Landsat and Sentinel, operate in LEO, typically at altitudes of 500–800 km. These orbits provide high-resolution imagery and frequent revisit times, ideal for monitoring dynamic environmental processes.\n",
    "- **Medium Earth Orbit (MEO):** Satellites in MEO, at altitudes of 2,000–35,000 km, are less common for Earth observation. Instead, they are often used for navigation systems like GPS. However, their broader coverage can complement LEO observations in global studies.\n",
    "- **High Earth Orbit (HEO):** Satellites in HEO operate above 35,786 km, often in geostationary or geosynchronous orbits. These orbits are especially useful for continuous monitoring of specific regions, making them ideal for weather observation and telecommunications. In Earth observation, HEO is less common but critical for applications requiring near-real-time, wide-area coverage, such as tracking large-scale weather patterns, atmospheric dynamics, and disaster response."
   ]
  },
  {
   "cell_type": "markdown",
   "metadata": {},
   "source": [
    "#### The Three Main Resolutions of Satellite Imagery: Spatial, Spectral, and Temporal\n",
    "\n",
    "Satellite imagery is characterized by three key types of resolution, each defining different aspects of the data collected. Together, they determine the quality and application of the imagery in Earth observation.\n",
    "\n",
    "- **Spatial Resolution:**  \n",
    "  Spatial resolution refers to the size of the smallest object that can be distinguished in an image, typically measured in meters. High spatial resolution imagery, such as from WorldView or Sentinel-2, can resolve details down to a few meters or even centimeters, making it ideal for urban planning, biodiversity studies, and detailed land-use analysis. In contrast, lower spatial resolution imagery, like that from MODIS, provides a broader overview suitable for large-scale studies, such as vegetation monitoring and climate modeling.\n",
    "\n",
    "- **Spectral Resolution:**  \n",
    "  Spectral resolution defines the ability of a sensor to distinguish between different wavelengths of light. It is measured by the number and width of spectral bands a sensor captures. Multispectral sensors, like those on Landsat, collect data across a handful of broad bands, while hyperspectral sensors, such as AVIRIS or PRISMA, capture hundreds of narrow bands. High spectral resolution is essential for identifying specific materials or biological characteristics, such as vegetation health, mineral composition, or water quality.\n",
    "\n",
    "  Check out this link from USGS (United States Geological Survey) that explains [Landsat 8's bands and their uses](https://www.usgs.gov/landsat-missions/landsat-8). \n",
    "\n",
    "- **Temporal Resolution:**  \n",
    "  Temporal resolution indicates how frequently a satellite revisits the same location. High temporal resolution systems, like geostationary satellites (e.g., GOES), provide near-continuous coverage, which is critical for monitoring rapidly changing phenomena like weather systems and wildfires. Low temporal resolution systems, such as Landsat (16-day revisit cycle), offer periodic snapshots, making them suitable for long-term environmental monitoring and change detection.\n",
    "\n",
    "These resolutions are often a trade-off, with higher capability in one area sometimes resulting in compromises in others. Selecting the right combination of resolutions depends on the specific application and objectives of the study."
   ]
  },
  {
   "cell_type": "markdown",
   "metadata": {},
   "source": [
    "#### Applications of Multispectral Imagery in Biodiversity Informatics\n",
    "\n",
    "The integration of Landsat and Sentinel data with biodiversity databases like GBIF enhances our ability to:\n",
    "- Identify correlations between species distribution and environmental variables.\n",
    "- Detect changes in habitat suitability due to climate change or anthropogenic impacts.\n",
    "- Develop ecological models to predict species movement and population dynamics.\n",
    "\n",
    "By linking multispectral data with occurrence records, GBIF users can unlock new insights into the drivers of biodiversity change and contribute to a deeper understanding of our planet’s ecosystems.\n",
    "\n",
    "#### Looking Ahead\n",
    "\n",
    "As technology evolves, the potential of multispectral imagery in biodiversity informatics continues to grow. With the increasing availability of data from missions like Landsat and Sentinel, combined with open-access platforms like GBIF, researchers can harness these tools to address pressing ecological challenges. Understanding the fundamentals of multispectral imaging and satellite orbits is the first step toward leveraging these technologies for the benefit of global biodiversity.\n",
    "\n",
    "---\n",
    "\n",
    "For further resources on integrating remote sensing data with GBIF records, check this tutorial on combining Landsat 8 imagery and GBIF records [here](https://data-blog.gbif.org/).\n"
   ]
  }
 ],
 "metadata": {
  "language_info": {
   "name": "python"
  }
 },
 "nbformat": 4,
 "nbformat_minor": 2
}
