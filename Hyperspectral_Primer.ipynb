{
 "cells": [
  {
   "cell_type": "markdown",
   "metadata": {},
   "source": [
    "### Hyperspectral Data Primer for GBIF: Focus on AVIRIS, GLIHT, EMIT, and Commercial Hyperspectral Systems\n",
    "\n",
    "#### Introduction to Hyperspectral Data\n",
    "Hyperspectral data, also known as imaging spectroscopy, captures detailed spectral information across a wide range of wavelengths. Unlike traditional multispectral data, which measures reflectance in broad wavelength bands, hyperspectral instruments collect continuous, narrow spectral bands, allowing precise identification of materials and organisms based on their spectral signatures. \n",
    "\n",
    "Most cameras used in day to day life only have 3 bands/3 channels Red, Green, and Blue (RGB) to create \"true color images\" in the visible spectrum (what the human eye can see) ~400-750 nm. Red is often 620–750 nm, green 495–570 nm, and blue 450–495 nm; however, this can vary upon sensor. \n"
   ]
  },
  {
   "cell_type": "markdown",
   "metadata": {},
   "source": [
    "![VisibleLight](/Users/kitlewers/GBIF_RS_Primers/images/FhxOJ.jpg)"
   ]
  },
  {
   "cell_type": "markdown",
   "metadata": {},
   "source": [
    "There are many ways to break up the spectrum of light (visible and non-visible) by creating more bands (sometimes referred to as channels) with shorter bandwidths. \n",
    "\n",
    "### **Breaking Down the Spectrum into Bands**\n",
    "1. **Broadband (Wide Bandwidths)**  \n",
    "   - Traditional multispectral sensors, such as those used in Landsat or MODIS, divide the spectrum into **relatively wide bands** (e.g., 50-100 nm bandwidths).  \n",
    "   - These broad bands capture **general spectral trends** and are useful for large-scale environmental monitoring.\n",
    "\n",
    "2. **Narrowband (Smaller Bandwidths)**  \n",
    "   - Hyperspectral sensors (e.g., AVIRIS) divide the spectrum into **hundreds of narrow bands**, often in the range of 5-10 nm bandwidths.  \n",
    "   - This enables detection of **subtle spectral features** such as pigment concentrations in vegetation, mineral compositions in soil, or water quality parameters.\n",
    "\n",
    "3. **Supercontinuum and Ultrafine Bandwidths**  \n",
    "   - Some advanced techniques use even **finer divisions**, creating what is sometimes called **ultrahyperspectral imaging**.  \n",
    "   - This allows for **sub-nanometer resolution**, which is critical in applications such as quantum optics, material science, and fine-scale chemical analysis. And, quite honestly, things well above my pay grade.\n",
    "\n",
    "### **Why Narrower Bands Matter?**\n",
    "- **Enhanced Spectral Resolution**  \n",
    "  More bands allow for finer discrimination of materials based on their spectral signatures. For example:\n",
    "  - Differentiating plant species based on subtle differences in chlorophyll absorption.\n",
    "  - Identifying minerals based on slight variations in reflectance.\n",
    "\n",
    "- **Targeted Feature Extraction**  \n",
    "  - Narrowband imaging can be tuned to detect specific spectral absorption features (e.g., red-edge reflectance in vegetation or water absorption bands in atmospheric studies).\n",
    "  - This is useful for applications such as **remote sensing of vegetation health, water quality assessment, and mineral exploration**.\n",
    "\n",
    "- **Increased Data Volume & Processing Needs**  \n",
    "  - While finer divisions provide more information, they also generate **larger datasets**, requiring advanced **compression techniques (e.g., xbitinfo, lossy compression, naive compression), efficient storage, and computational power** for processing."
   ]
  },
  {
   "cell_type": "markdown",
   "metadata": {},
   "source": [
    "To put it in perspective, imagine a regular RGB image, you have 3 bands, you can say that you have 3 pieces of information associated with each pixel. If that still seems a bit too abstract look at the table below, lets say that 1 pixel is 1 row in a table and with 3 bands, there are 3 columns."
   ]
  },
  {
   "cell_type": "markdown",
   "metadata": {},
   "source": [
    "![RGB](/Users/kitlewers/GBIF_RS_Primers/images/RGB.png)"
   ]
  },
  {
   "cell_type": "markdown",
   "metadata": {},
   "source": [
    "Next, think of a multispectral sensor, Landsat 8 has 11 bands so that means there are 11 pieces of information/11 columns associated with 1 pixel/1 row of data. "
   ]
  },
  {
   "cell_type": "markdown",
   "metadata": {
    "vscode": {
     "languageId": "plaintext"
    }
   },
   "source": [
    "![Multispectral](/Users/kitlewers/GBIF_RS_Primers/images/Multispectral.png)"
   ]
  },
  {
   "cell_type": "markdown",
   "metadata": {},
   "source": [
    "Now if you take an image using a hyperspectral sensor, let's use AVIRIS(to be expanded upon below), there would be 426 bands which means there are 426 pieces of information associated/426 columns associated with 1 pixel/1 row.\n",
    "\n"
   ]
  },
  {
   "cell_type": "markdown",
   "metadata": {},
   "source": [
    "![Hyperspectral](/Users/kitlewers/GBIF_RS_Primers/images/Hyperspectral.png)"
   ]
  },
  {
   "cell_type": "markdown",
   "metadata": {},
   "source": [
    "Hyperspectral imagery is particularly valuable in biodiversity research, enabling the mapping of vegetation, habitat types, and even species-level identification in some cases. These data are foundational for ecological monitoring, biodiversity assessments, and environmental management. Now that you know a bit about hyperspectral data, let's meet some instruments.\n",
    "\n",
    "#### The AVIRIS Instrument\n",
    "[The Airborne Visible/Infrared Imaging Spectrometer - Next Generation (AVIRIS-NG)](https://aviris.jpl.nasa.gov/), developed by NASA's Jet Propulsion Laboratory (JPL), is part of NASA’s Airborne Science Program and represents the evolution of hyperspectral sensing technology. [The National Ecological Observatory Network (NEON)](https://www.neonscience.org/) also uses AVIRIS-NG spectrometers and has three payloads in their possession, two for NEON work and one to loan out to other projects that have funding to fly missions."
   ]
  },
  {
   "cell_type": "markdown",
   "metadata": {},
   "source": [
    "NEON Twin Otter and AVIRIS:"
   ]
  },
  {
   "cell_type": "markdown",
   "metadata": {},
   "source": [
    "![NEON](/Users/kitlewers/GBIF_RS_Primers/images/NEON.jpg)"
   ]
  },
  {
   "cell_type": "markdown",
   "metadata": {},
   "source": [
    "![AVIRIS](/Users/kitlewers/GBIF_RS_Primers/images/AVIRIS.jpg)"
   ]
  },
  {
   "cell_type": "markdown",
   "metadata": {},
   "source": [
    "**Key Features:**\n",
    "- **Spectral Range:** AVIRIS-NG measures reflectance across 425 contiguous spectral bands spanning the solar-reflected spectral range (380 to 2,510 nm).\n",
    "- **Spatial Resolution:** The instrument provides high spatial resolution, typically between 4 to 20 meters depending on flight altitude. As mentioned above, NEON also uses a AVIRIS-NG spectrometers, but fly lower and slower giving spatial resolutions of 1m.\n",
    "- **Applications:**\n",
    "  - **Vegetation Analysis:** Mapping species composition, health, and stress.\n",
    "  - **Geological Studies:** Identifying mineral compositions.\n",
    "  - **Aquatic Research:** Monitoring water quality and detecting harmful algal blooms.\n",
    "\n",
    "**Relevance to GBIF:**\n",
    "AVIRIS-NG data has been used in projects like [NASA's BioSCape campaign](https://www.bioscape.io/) to characterize biodiversity and ecosystems in regions such as South Africa's Cape Floristic Region and NEON's field data collections. These data can be integrated into GBIF workflows to complement species occurrence records with environmental variables derived from hyperspectral imagery.\n",
    "\n",
    "#### The GLiHT Platform\n",
    "[The Goddard's Lidar, Hyperspectral, and Thermal Imager (GLiHT)](https://gliht.gsfc.nasa.gov/) is another advanced instrument developed by NASA. GLiHT combines lidar, hyperspectral, and thermal imaging, providing a multidimensional view of ecosystems. What is interesting about this platform is it has multiple sensors running in tandem and all are off the shelf products.\n",
    "\n",
    "**Key Features:**\n",
    "- **Hyperspectral Capability:** Covers the visible to shortwave infrared range, similar to AVIRIS, but with additional thermal imaging.\n",
    "- **Lidar Integration:** Enables precise topographic mapping and vegetation structure analysis.\n",
    "- **Applications:**\n",
    "  - High-resolution biodiversity mapping in tropical and temperate forests.\n",
    "  - Carbon stock estimation and habitat characterization.\n",
    "\n",
    "**Relevance to GBIF:**\n",
    "GLiHT data can be used to enhance biodiversity models by providing both structural and spectral data. Its integration of lidar with hyperspectral imaging makes it ideal for studies requiring detailed vegetation mapping and canopy structure analysis, offering additional layers for species distribution modeling.\n",
    "\n",
    "#### Expanding Horizons: EMIT and Commercial Hyperspectral Systems\n",
    "\n",
    "**EMIT (Earth Surface Mineral Dust Source Investigation):**\n",
    "Another advanced hyperspectral instrument developed by JPL, [EMIT (Earth Surface Mineral Dust Source Investigation)](https://earth.jpl.nasa.gov/emit/) is hosted on the International Space Station (ISS). While its primary goal is to map mineral dust source regions, its hyperspectral capabilities have broader ecological applications.\n",
    "\n",
    "- **Spectral Range:** Similar to AVIRIS-NG, covering the visible to shortwave infrared.\n",
    "- **Spatial Coverage:** Provides regional to global-scale datasets.\n",
    "- **Potential GBIF Applications:** EMIT data can help model species distributions and understand habitat conditions, particularly in arid and semi-arid ecosystems where mineral composition influences biodiversity.\n",
    "\n",
    "**Commercial Hyperspectral Systems:**\n",
    "Recent advancements in commercial hyperspectral systems have made high-resolution data more accessible. Companies such as Planet, Headwall Photonics, and HySpex offer sensors suitable for both airborne and terrestrial applications.\n",
    "\n",
    "- **Advantages:**\n",
    "  - Increased spatial and temporal resolution compared to traditional government-operated sensors.\n",
    "  - Greater flexibility in deployment for localized biodiversity studies.\n",
    "- **Challenges:**\n",
    "  - Proprietary data formats and licensing restrictions may limit integration into open data platforms like GBIF.\n",
    "\n",
    "**Integrating Commercial Data into GBIF:**\n",
    "To ensure compatibility, GBIF can advocate for open data policies and support the development of tools for ingesting and processing commercial hyperspectral data. Collaborative efforts with commercial providers can expand the availability of these datasets for biodiversity research.\n",
    "\n",
    "#### Hyperspectral Data in Biodiversity Informatics\n",
    "Hyperspectral instruments like AVIRIS-NG, GLiHT, EMIT, and commercial systems have the potential to revolutionize biodiversity informatics by:\n",
    "- Providing high-resolution environmental layers for ecological modeling.\n",
    "- Enabling the detection of species-specific spectral signatures for mapping distributions.\n",
    "- Supporting the development of Essential Biodiversity Variables (EBVs), particularly ecosystem structure and function.\n",
    "\n",
    "To maximize the impact of hyperspectral data within GBIF, the following steps are recommended:\n",
    "1. **Standardization:** Work with organizations like GEO BON and TDWG to define standards for integrating hyperspectral-derived products into biodiversity data frameworks.\n",
    "2. **Infrastructure Development:** Leverage cloud computing platforms to process and store large hyperspectral datasets.\n",
    "3. **Capacity Building:** Provide training and resources for the biodiversity research community to utilize hyperspectral data effectively.\n",
    "\n",
    "#### Conclusion\n",
    "The integration of hyperspectral data from instruments like AVIRIS-NG, GLiHT, EMIT, and commercial systems into GBIF represents a significant opportunity to enhance biodiversity research. By aligning efforts with data providers and fostering collaboration across the research community, GBIF can play a pivotal role in making hyperspectral data more accessible and impactful for global biodiversity conservation.\n",
    "\n",
    "---\n",
    "\n",
    "This primer aims to provide GBIF stakeholders with a foundational understanding of hyperspectral data and its applications, focusing on the AVIRIS-NG instrument and expanding to include emerging technologies like GLiHT, EMIT, and commercial systems. By integrating these datasets, GBIF can further its mission of mobilizing biodiversity data for a sustainable future."
   ]
  }
 ],
 "metadata": {
  "language_info": {
   "name": "python"
  }
 },
 "nbformat": 4,
 "nbformat_minor": 2
}
